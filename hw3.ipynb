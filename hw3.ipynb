{
 "cells": [
  {
   "cell_type": "markdown",
   "metadata": {},
   "source": [
    "# HW3 - Stock Movement Prediction\n",
    "\n",
    "作業檔案：\n",
    "- hw3.ipynb\n",
    "\n",
    "資料：\n",
    "https://www.sharecast.com/index/SP_500/prices/download\n",
    "\n",
    "- train.csv: S&P 500 訓練資料(2009-2017)\n",
    "- test.csv: S&P 500 測試資料(2018)\n"
   ]
  },
  {
   "cell_type": "markdown",
   "metadata": {},
   "source": [
    "## 環境\n",
    "\n",
    "請填寫當前執行使用的環境。\n",
    "\n",
    "|環境|名稱|版本|\n",
    "|-|-|-|\n",
    "|作業系統|Ubuntu|18.04 LTS|\n",
    "|程式執行環境|jupyter notebook|1.0.0|\n",
    "|python 版本|python3|3.6.9|\n",
    "|安裝環境|pip|20.1|"
   ]
  },
  {
   "cell_type": "markdown",
   "metadata": {},
   "source": [
    "## 安裝\n",
    "\n",
    "請填寫安裝套件需要的指令\n",
    "\n",
    "```sh\n",
    "pip install -r requirements.txt\n",
    "```"
   ]
  },
  {
   "cell_type": "markdown",
   "metadata": {},
   "source": [
    "## 計算資源\n",
    "\n",
    "請填寫執行程式所需要的計算資源，請確保所有資源限制在單一個人桌上型電腦且能夠以總市價低於 5 萬的手段取得。\n",
    "\n",
    "|計算資源|答案|\n",
    "|-|-|\n",
    "|使用 CPU 核心數|6|\n",
    "|記憶體需求|$\\leq 4$GB|\n",
    "|有無使用 GPU|無|\n",
    "|GPU 版本|無|\n",
    "|GPU 記憶體需求|$\\leq 1$GB|"
   ]
  },
  {
   "cell_type": "markdown",
   "metadata": {},
   "source": [
    "## 資料前處理\n",
    "\n",
    "### 觀察資料型態與分佈\n",
    "\n",
    "首先快速檢視資料的特徵，共有6個欄位：\n",
    "\n",
    "- Date\n",
    "- Open Price\n",
    "- Close Price\n",
    "- High Price\n",
    "- Low Price\n",
    "- Volume\n",
    "\n",
    "除了Date外，所有欄位都是數值欄位。"
   ]
  },
  {
   "cell_type": "code",
   "execution_count": 1,
   "metadata": {},
   "outputs": [
    {
     "name": "stdout",
     "output_type": "stream",
     "text": [
      "<class 'pandas.core.frame.DataFrame'>\n",
      "RangeIndex: 2264 entries, 0 to 2263\n",
      "Data columns (total 6 columns):\n",
      " #   Column       Non-Null Count  Dtype  \n",
      "---  ------       --------------  -----  \n",
      " 0   Date         2264 non-null   object \n",
      " 1   Open Price   2264 non-null   float64\n",
      " 2   Close Price  2264 non-null   float64\n",
      " 3   High Price   2264 non-null   float64\n",
      " 4   Low Price    2264 non-null   float64\n",
      " 5   Volume       2264 non-null   int64  \n",
      "dtypes: float64(4), int64(1), object(1)\n",
      "memory usage: 106.2+ KB\n",
      "None\n",
      "\n",
      "<class 'pandas.core.frame.DataFrame'>\n",
      "RangeIndex: 252 entries, 0 to 251\n",
      "Data columns (total 6 columns):\n",
      " #   Column       Non-Null Count  Dtype  \n",
      "---  ------       --------------  -----  \n",
      " 0   Date         252 non-null    object \n",
      " 1   Open Price   252 non-null    float64\n",
      " 2   Close Price  252 non-null    float64\n",
      " 3   High Price   252 non-null    float64\n",
      " 4   Low Price    252 non-null    float64\n",
      " 5   Volume       252 non-null    int64  \n",
      "dtypes: float64(4), int64(1), object(1)\n",
      "memory usage: 11.9+ KB\n",
      "None\n"
     ]
    }
   ],
   "source": [
    "# Read data\n",
    "\n",
    "import pandas as pd\n",
    "import numpy as np\n",
    "import matplotlib.pyplot as plt\n",
    "\n",
    "train_data_path = './train.csv'\n",
    "test_data_path = './test.csv'\n",
    "\n",
    "train_df = pd.read_csv(train_data_path)\n",
    "test_df = pd.read_csv(test_data_path)\n",
    "\n",
    "print(train_df.info())\n",
    "print()\n",
    "print(test_df.info())"
   ]
  },
  {
   "cell_type": "markdown",
   "metadata": {},
   "source": [
    "捨去Date欄位，這意味著將每一筆資料的間隔視為等距1日，雖然股票遇到假日會休市，但為了方便後續處理，這裡就直接當成等間距採樣的資料。\n",
    "接著把各欄位的分佈視覺化，發現前4個欄位的分佈有雙峰，Volume欄位為單峰，雖然不是最適當的作法，但這裡仍用常態分佈來做標準化。"
   ]
  },
  {
   "cell_type": "code",
   "execution_count": 2,
   "metadata": {},
   "outputs": [
    {
     "data": {
      "image/png": "[encoded data removed]",
      "text/plain": [
       "<Figure size 1440x216 with 5 Axes>"
      ]
     },
     "metadata": {
      "needs_background": "light"
     },
     "output_type": "display_data"
    }
   ],
   "source": [
    "# Drop unnecessary columns\n",
    "\n",
    "drop_col_names = ['Date'] # !--- or you can modify it to drop the columns you don't want ---!\n",
    "\n",
    "train_df.drop(columns=drop_col_names, inplace=True)\n",
    "test_df.drop(columns=drop_col_names, inplace=True)\n",
    "\n",
    "i = 1\n",
    "fig = plt.figure(figsize=(20,3))\n",
    "for key in train_df.keys():\n",
    "    ax = fig.add_subplot(1,5,i)\n",
    "    ax.hist(train_df[key])\n",
    "    ax.set_title(key)\n",
    "    i = i + 1"
   ]
  },
  {
   "cell_type": "markdown",
   "metadata": {},
   "source": [
    "### 製作目標資料（標籤）\n",
    "\n",
    "這裡的目標資料為「隔天的股票漲跌」，因此只會有漲、跌兩種類別，以收盤價為基準來衡量當天的漲跌，將此種資訊新增至`Tomorrow Movement`欄位，以0代表跌、1代表漲。"
   ]
  },
  {
   "cell_type": "code",
   "execution_count": 3,
   "metadata": {},
   "outputs": [
    {
     "name": "stdout",
     "output_type": "stream",
     "text": [
      "   Open Price  Close Price  High Price  Low Price      Volume  \\\n",
      "0      902.99       931.80      934.73     899.35  4048270080   \n",
      "1      929.17       927.45      936.63     919.53  5413910016   \n",
      "2      931.17       934.70      943.85     927.28  5392620032   \n",
      "3      927.45       906.65      927.45     902.37  4704940032   \n",
      "4      905.73       909.73      910.00     896.81  4991549952   \n",
      "\n",
      "   Tomorrow Movement  \n",
      "0                0.0  \n",
      "1                1.0  \n",
      "2                0.0  \n",
      "3                1.0  \n",
      "4                0.0  \n",
      "      Open Price  Close Price  High Price  Low Price      Volume  \\\n",
      "2258     2683.02      2684.57     2692.64    2682.40  1933795072   \n",
      "2259     2684.22      2683.34     2685.35    2678.13  1383888512   \n",
      "2260     2679.09      2680.50     2682.74    2677.96  1103808384   \n",
      "2261     2682.10      2682.62     2685.64    2678.91  1149108352   \n",
      "2262     2686.10      2687.54     2687.66    2682.69  1126089856   \n",
      "\n",
      "      Tomorrow Movement  \n",
      "2258                0.0  \n",
      "2259                0.0  \n",
      "2260                1.0  \n",
      "2261                1.0  \n",
      "2262                0.0  \n"
     ]
    }
   ],
   "source": [
    "# Add the column `Tomorrow Movement` by comparing the `Close Price` with the previous days as the training target\n",
    "\n",
    "train_df['Tomorrow Movement'] = np.where(train_df['Close Price'].diff() >= 0, 1, 0)\n",
    "test_df['Tomorrow Movement'] = np.where(test_df['Close Price'].diff() >= 0, 1, 0)\n",
    "\n",
    "train_df['Tomorrow Movement'] = train_df['Tomorrow Movement'].shift(-1)\n",
    "test_df['Tomorrow Movement'] = test_df['Tomorrow Movement'].shift(-1)\n",
    "\n",
    "train_df.drop(train_df.tail(1).index,inplace=True)\n",
    "test_df.drop(test_df.tail(1).index,inplace=True)\n",
    "\n",
    "print(train_df.head())\n",
    "print(train_df.tail())"
   ]
  },
  {
   "cell_type": "markdown",
   "metadata": {},
   "source": [
    "將標籤與特徵資料分離。"
   ]
  },
  {
   "cell_type": "code",
   "execution_count": 4,
   "metadata": {},
   "outputs": [
    {
     "name": "stdout",
     "output_type": "stream",
     "text": [
      "(2263, 5)\n",
      "   Open Price  Close Price  High Price  Low Price      Volume\n",
      "0      902.99       931.80      934.73     899.35  4048270080\n",
      "1      929.17       927.45      936.63     919.53  5413910016\n",
      "2      931.17       934.70      943.85     927.28  5392620032\n",
      "3      927.45       906.65      927.45     902.37  4704940032\n",
      "4      905.73       909.73      910.00     896.81  4991549952\n",
      "(2263,)\n",
      "0    0.0\n",
      "1    1.0\n",
      "2    0.0\n",
      "3    1.0\n",
      "4    0.0\n",
      "Name: Tomorrow Movement, dtype: float64\n",
      "-----\n",
      "(251, 5)\n",
      "   Open Price  Close Price  High Price  Low Price      Volume\n",
      "0     2683.73      2695.81     2695.89    2682.36  1846463232\n",
      "1     2697.85      2713.06     2714.37    2697.77  2090595328\n",
      "2     2719.31      2723.99     2729.29    2719.07  2100767744\n",
      "3     2731.33      2743.15     2743.45    2727.92  1918869120\n",
      "4     2742.67      2747.71     2748.51    2737.60  1894823936\n",
      "(251,)\n",
      "0    1.0\n",
      "1    1.0\n",
      "2    1.0\n",
      "3    1.0\n",
      "4    1.0\n",
      "Name: Tomorrow Movement, dtype: float64\n"
     ]
    }
   ],
   "source": [
    "# Divide x and y data\n",
    "\n",
    "train_x_df = train_df.drop(columns=['Tomorrow Movement'])\n",
    "train_y_df = train_df['Tomorrow Movement']\n",
    "\n",
    "test_x_df = test_df.drop(columns=['Tomorrow Movement'])\n",
    "test_y_df = test_df['Tomorrow Movement']\n",
    "\n",
    "print(train_x_df.shape)\n",
    "print(train_x_df.head())\n",
    "print(train_y_df.shape)\n",
    "print(train_y_df.head())\n",
    "print('-----')\n",
    "print(test_x_df.shape)\n",
    "print(test_x_df.head())\n",
    "print(test_y_df.shape)\n",
    "print(test_y_df.head())"
   ]
  },
  {
   "cell_type": "markdown",
   "metadata": {},
   "source": [
    "捨棄有NaN的欄位。"
   ]
  },
  {
   "cell_type": "code",
   "execution_count": 5,
   "metadata": {},
   "outputs": [
    {
     "name": "stdout",
     "output_type": "stream",
     "text": [
      "(2263, 6)\n"
     ]
    }
   ],
   "source": [
    "# Drop rows with NaN values\n",
    "\n",
    "train_df = train_df.dropna()\n",
    "test_df = test_df.dropna()\n",
    "\n",
    "print(train_df.shape)"
   ]
  },
  {
   "cell_type": "markdown",
   "metadata": {},
   "source": [
    "### 時間序列的處理\n",
    "\n",
    "股票為時間序列資料，可以分解成幾種元素：\n",
    "- T(t)： Trend component，代表整題資料的走勢\n",
    "- S(t)： Seasonal component，代表資料在固定時間週期內的循環訊號，通常以日、週、月、季\n",
    "- C(t)： Cyclic component，代表長時間的循環訊號，但無固定週期或者週期很長，這裡會把此元素併入S(t)\n",
    "- I(t)： Irregular component，無法以上面的元素表示的訊號，即雜訊\n",
    "\n",
    "整體資料y(t)可以用上述元素的兩種形式來組成\n",
    "1. 加法形式 $ y(t) = T(t) + S(t) + I(t) $\n",
    "1. 乘法形式 $ y(t) = T(t) * S(t) * I(t) $\n",
    "\n",
    "經實驗後發現，這裡要處理的資料用乘法形式來表現成果較佳，所有欄位的時間序列分解如下面所示。可以發現訓練資料的trend元素是往上走的，且數值範圍與其他元素相差過大，經實驗發現如果不把此因素去除，機器學習時受trend影響過大，會直接把預測結果猜為全部上漲（即預測結果全為1），因此這裡依照乘法形式把trend元素從資料中移除，資料剩下$ y(t) = S(t) * I(t) $，只由Seasonal與Irregular來主宰。\n",
    "\n",
    "另外在實驗時發現，季節性元素的週期不宜設定過大，這裡將`period`設為3，表示某天的資料僅會受過去3天的資料影響，換句話說，上星期、上個月、甚至去年的資料跟當天的資料幾乎沒有關聯。"
   ]
  },
  {
   "cell_type": "code",
   "execution_count": 6,
   "metadata": {},
   "outputs": [
    {
     "data": {
      "image/png": "[encoded data removed]",
      "text/plain": [
       "<Figure size 432x288 with 4 Axes>"
      ]
     },
     "metadata": {
      "needs_background": "light"
     },
     "output_type": "display_data"
    },
    {
     "data": {
      "image/png": "[encoded data removed]",
      "text/plain": [
       "<Figure size 432x288 with 4 Axes>"
      ]
     },
     "metadata": {
      "needs_background": "light"
     },
     "output_type": "display_data"
    },
    {
     "data": {
      "image/png": "[encoded data removed]",
      "text/plain": [
       "<Figure size 432x288 with 4 Axes>"
      ]
     },
     "metadata": {
      "needs_background": "light"
     },
     "output_type": "display_data"
    },
    {
     "data": {
      "image/png": "[encoded data removed]",
      "text/plain": [
       "<Figure size 432x288 with 4 Axes>"
      ]
     },
     "metadata": {
      "needs_background": "light"
     },
     "output_type": "display_data"
    },
    {
     "data": {
      "image/png": "[encoded data removed]",
      "text/plain": [
       "<Figure size 432x288 with 4 Axes>"
      ]
     },
     "metadata": {
      "needs_background": "light"
     },
     "output_type": "display_data"
    }
   ],
   "source": [
    "from statsmodels.tsa.seasonal import seasonal_decompose\n",
    "for key in train_x_df.keys():\n",
    "    timeseries = seasonal_decompose(train_x_df[key], model='multiplicative', period=3)\n",
    "    timeseries.trend.fillna(method='bfill', inplace=True)\n",
    "    timeseries.trend.fillna(method='ffill', inplace=True)\n",
    "    train_x_df[key] = train_x_df[key] / timeseries.trend\n",
    "    timeseries.plot()\n",
    "    plt.show()\n",
    "    "
   ]
  },
  {
   "cell_type": "markdown",
   "metadata": {},
   "source": [
    "測試資料也同訓練資料做一樣的處理，處理完後的資料概覽如下。"
   ]
  },
  {
   "cell_type": "code",
   "execution_count": 7,
   "metadata": {},
   "outputs": [],
   "source": [
    "for key in test_x_df.keys():\n",
    "    timeseries = seasonal_decompose(test_x_df[key], model='multiplicative', period=3)\n",
    "    timeseries.trend.fillna(method='bfill', inplace=True)\n",
    "    timeseries.trend.fillna(method='ffill', inplace=True)\n",
    "    test_x_df[key] = test_x_df[key] / timeseries.trend\n",
    "    #timeseries.plot()\n",
    "    #plt.show()\n",
    "    "
   ]
  },
  {
   "cell_type": "code",
   "execution_count": 8,
   "metadata": {},
   "outputs": [
    {
     "name": "stdout",
     "output_type": "stream",
     "text": [
      "-------- Training Data --------\n",
      "        Open Price  Close Price   High Price    Low Price       Volume\n",
      "count  2263.000000  2263.000000  2263.000000  2263.000000  2263.000000\n",
      "mean      0.999985     0.999989     0.999990     0.999983     0.998746\n",
      "std       0.004675     0.005089     0.003409     0.004114     0.100752\n",
      "min       0.962816     0.961909     0.979801     0.963618     0.282725\n",
      "25%       0.997862     0.997624     0.998406     0.997829     0.944671\n",
      "50%       1.000115     1.000158     1.000183     1.000097     0.995761\n",
      "75%       1.002153     1.002396     1.001765     1.002069     1.051002\n",
      "max       1.029886     1.030720     1.014032     1.024289     1.650989\n",
      "\n",
      "-------- Testing Data --------\n",
      "       Open Price  Close Price  High Price   Low Price      Volume\n",
      "count  251.000000   251.000000  251.000000  251.000000  251.000000\n",
      "mean     1.000045     0.999983    1.000004    1.000037    0.998744\n",
      "std      0.005194     0.005073    0.003947    0.005177    0.096158\n",
      "min      0.974841     0.974829    0.979480    0.982208    0.564617\n",
      "25%      0.997755     0.997856    0.998328    0.997685    0.953609\n",
      "50%      1.000294     1.000379    1.000270    0.999919    0.996541\n",
      "75%      1.002216     1.002343    1.002119    1.002528    1.035957\n",
      "max      1.026275     1.014787    1.011967    1.027885    1.446454\n"
     ]
    }
   ],
   "source": [
    "print('-------- Training Data --------')\n",
    "print(train_x_df.describe())\n",
    "print('\\n-------- Testing Data --------')\n",
    "print(test_x_df.describe())"
   ]
  },
  {
   "cell_type": "markdown",
   "metadata": {},
   "source": [
    "### 資料正規化\n",
    "\n",
    "將資料約範圍轉換到[0,1]，並且平均值為0。"
   ]
  },
  {
   "cell_type": "code",
   "execution_count": 9,
   "metadata": {},
   "outputs": [
    {
     "name": "stdout",
     "output_type": "stream",
     "text": [
      "-------- Training Data Quick View --------\n",
      "   Open Price  Close Price  High Price  Low Price    Volume\n",
      "0   -4.205563     0.104075   -1.145631  -4.255655 -1.798656\n",
      "1    1.875199    -0.813930   -0.551522   1.104684  0.939344\n",
      "2    0.442094     2.507816    2.471269   2.892715  0.438949\n",
      "3    1.396214    -2.221897    0.113756  -1.721563 -0.628564\n",
      "4   -2.016915     1.632939   -2.065357   0.270103  0.399317\n",
      "\n",
      "-------- Training Labels --------\n",
      "0    0.0\n",
      "1    1.0\n",
      "2    0.0\n",
      "3    1.0\n",
      "4    0.0\n",
      "Name: Tomorrow Movement, dtype: float64\n"
     ]
    }
   ],
   "source": [
    "# Normalize data\n",
    "\n",
    "from sklearn.preprocessing import StandardScaler\n",
    "\n",
    "scaler = StandardScaler()\n",
    "scaler.fit(train_x_df)\n",
    "\n",
    "normalized_train_x_df = scaler.transform(train_x_df)\n",
    "normalized_train_x_df = np.transpose(normalized_train_x_df)\n",
    "\n",
    "normalized_train_x_df = pd.DataFrame({\n",
    "    'Open Price': normalized_train_x_df[0],\n",
    "    'Close Price': normalized_train_x_df[1],\n",
    "    'High Price': normalized_train_x_df[2],\n",
    "    'Low Price': normalized_train_x_df[3],\n",
    "    'Volume': normalized_train_x_df[4],\n",
    "})\n",
    "\n",
    "normalized_test_x_df = scaler.transform(test_x_df)\n",
    "normalized_test_x_df = np.transpose(normalized_test_x_df)\n",
    "normalized_test_x_df = pd.DataFrame({\n",
    "    'Open Price': normalized_test_x_df[0],\n",
    "    'Close Price': normalized_test_x_df[1],\n",
    "    'High Price': normalized_test_x_df[2],\n",
    "    'Low Price': normalized_test_x_df[3],\n",
    "    'Volume': normalized_test_x_df[4],\n",
    "})\n",
    "\n",
    "print('-------- Training Data Quick View --------')\n",
    "print(normalized_train_x_df.head())\n",
    "print('\\n-------- Training Labels --------')\n",
    "print(train_y_df.head())"
   ]
  },
  {
   "cell_type": "markdown",
   "metadata": {},
   "source": [
    "## Logistic Regression\n",
    "\n",
    "利用Logistic Regression來做二元分類器，訓練與測試結果精度達0.79左右，算是不錯。"
   ]
  },
  {
   "cell_type": "code",
   "execution_count": 10,
   "metadata": {},
   "outputs": [
    {
     "name": "stdout",
     "output_type": "stream",
     "text": [
      "training accuracy: 0.794078656650464\n",
      "testing accuracy: 0.7928286852589641\n",
      "\n",
      "predicted testing labels:\n",
      "[1. 1. 1. 0. 1. 0. 1. 1. 0. 1. 0. 1. 1. 0. 0. 1. 1. 0. 0. 1. 0. 0. 0. 1.\n",
      " 1. 0. 1. 1. 0. 1. 1. 0. 0. 1. 1. 1. 1. 0. 0. 0. 1. 1. 0. 0. 1. 1. 0. 0.\n",
      " 0. 1. 1. 0. 1. 1. 0. 1. 1. 0. 0. 1. 0. 1. 1. 1. 0. 1. 1. 0. 1. 0. 1. 1.\n",
      " 0. 0. 0. 1. 0. 1. 1. 0. 0. 1. 0. 1. 1. 1. 0. 1. 1. 0. 0. 0. 1. 0. 0. 1.\n",
      " 0. 1. 1. 0. 0. 1. 0. 1. 0. 0. 1. 0. 1. 1. 1. 0. 1. 0. 1. 0. 1. 0. 1. 0.\n",
      " 1. 0. 1. 1. 0. 1. 1. 1. 1. 0. 0. 1. 0. 0. 1. 1. 0. 1. 1. 1. 1. 0. 0. 0.\n",
      " 1. 1. 1. 1. 0. 1. 0. 1. 0. 1. 1. 0. 1. 0. 1. 0. 0. 1. 1. 1. 0. 1. 0. 1.\n",
      " 1. 1. 1. 0. 1. 1. 1. 1. 0. 0. 1. 1. 1. 0. 0. 1. 0. 1. 0. 1. 0. 1. 0. 1.\n",
      " 1. 1. 0. 0. 1. 0. 1. 0. 0. 1. 1. 0. 0. 1. 0. 1. 1. 1. 0. 0. 1. 1. 1. 0.\n",
      " 0. 0. 1. 1. 1. 1. 0. 0. 1. 0. 1. 0. 1. 0. 1. 1. 0. 1. 0. 1. 1. 1. 0. 0.\n",
      " 0. 0. 1. 0. 0. 0. 0. 1. 0. 0. 0.]\n"
     ]
    }
   ],
   "source": [
    "# Train & Predict using Logistic Regression\n",
    "\n",
    "from sklearn.linear_model import LogisticRegression\n",
    "from sklearn.metrics import accuracy_score\n",
    "\n",
    "lr_model =  LogisticRegression(random_state=0, solver='liblinear')\n",
    "lr_model.fit(normalized_train_x_df, train_y_df)\n",
    "\n",
    "lr_training_acc = lr_model.score(normalized_train_x_df, train_y_df)\n",
    "print('training accuracy: {}'.format(lr_training_acc))\n",
    "\n",
    "lr_predict_test_result = lr_model.predict(normalized_test_x_df)\n",
    "lr_testing_acc = lr_model.score(normalized_test_x_df, test_y_df)\n",
    "print('testing accuracy: {}'.format(lr_testing_acc))\n",
    "\n",
    "print('\\npredicted testing labels:')\n",
    "print(lr_predict_test_result)"
   ]
  },
  {
   "cell_type": "markdown",
   "metadata": {},
   "source": [
    "### 分類結果評估"
   ]
  },
  {
   "cell_type": "code",
   "execution_count": 11,
   "metadata": {},
   "outputs": [
    {
     "name": "stdout",
     "output_type": "stream",
     "text": [
      "precision, recall, fbeta-score:\n",
      "(0.792783851805056, 0.7928286852589641, 0.7926040448487973, None)\n",
      "\n",
      "confusion matrix(tn, fp, fn, tp):\n",
      "(91, 28, 24, 108)\n"
     ]
    }
   ],
   "source": [
    "# Print precision, recall, fbeta-score and confusion matrix\n",
    "\n",
    "from sklearn.metrics import precision_recall_fscore_support\n",
    "from sklearn.metrics import confusion_matrix\n",
    "\n",
    "print('precision, recall, fbeta-score:')\n",
    "print(precision_recall_fscore_support(test_y_df, lr_predict_test_result, average='weighted'))\n",
    "print('\\nconfusion matrix(tn, fp, fn, tp):')\n",
    "tn, fp, fn, tp = confusion_matrix(test_y_df, lr_predict_test_result).ravel()\n",
    "print((tn, fp, fn, tp))"
   ]
  },
  {
   "cell_type": "markdown",
   "metadata": {},
   "source": [
    "## SVM\n",
    "\n",
    "利用SVM來做二元分類器，訓練與測試結果精度達0.79左右，算是不錯。"
   ]
  },
  {
   "cell_type": "code",
   "execution_count": 12,
   "metadata": {},
   "outputs": [
    {
     "name": "stdout",
     "output_type": "stream",
     "text": [
      "training accuracy: 0.7927529827662395\n",
      "testing accuracy: 0.7928286852589641\n",
      "\n",
      "predicted testing labels:\n",
      "[1. 1. 1. 0. 1. 0. 1. 1. 0. 1. 0. 1. 1. 0. 0. 1. 1. 0. 0. 1. 0. 0. 0. 1.\n",
      " 1. 0. 1. 1. 0. 1. 1. 0. 0. 1. 1. 1. 1. 0. 0. 0. 1. 1. 0. 0. 1. 1. 0. 0.\n",
      " 0. 1. 1. 0. 1. 1. 0. 1. 1. 0. 0. 1. 0. 1. 1. 1. 0. 1. 1. 0. 1. 0. 1. 1.\n",
      " 0. 0. 0. 1. 0. 1. 1. 0. 0. 1. 0. 1. 1. 1. 0. 1. 1. 0. 0. 0. 1. 0. 0. 1.\n",
      " 0. 1. 1. 0. 0. 1. 0. 1. 0. 0. 1. 0. 1. 1. 1. 0. 1. 0. 1. 0. 1. 0. 1. 0.\n",
      " 1. 0. 1. 1. 0. 1. 1. 1. 1. 0. 0. 1. 0. 0. 1. 1. 0. 1. 1. 1. 1. 0. 0. 0.\n",
      " 1. 1. 1. 1. 0. 1. 0. 1. 0. 1. 1. 0. 1. 0. 1. 0. 0. 1. 1. 1. 0. 1. 0. 1.\n",
      " 1. 1. 1. 0. 1. 1. 1. 1. 0. 0. 1. 1. 1. 0. 0. 1. 0. 1. 0. 1. 0. 1. 0. 1.\n",
      " 1. 1. 0. 0. 1. 0. 1. 0. 0. 1. 1. 0. 0. 1. 0. 1. 1. 1. 0. 0. 1. 1. 1. 0.\n",
      " 0. 0. 1. 1. 1. 1. 0. 0. 1. 0. 1. 0. 1. 0. 1. 1. 0. 1. 0. 1. 1. 1. 1. 1.\n",
      " 0. 0. 1. 0. 0. 0. 0. 1. 0. 0. 0.]\n"
     ]
    }
   ],
   "source": [
    "# Train & Predict with SVC\n",
    "\n",
    "from sklearn.svm import SVC\n",
    "\n",
    "svc_model = SVC(C=1, kernel='linear', probability=True)\n",
    "svc_model.fit(normalized_train_x_df, train_y_df)\n",
    "\n",
    "svc_training_acc = svc_model.score(normalized_train_x_df, train_y_df)\n",
    "print('training accuracy: {}'.format(svc_training_acc))\n",
    "\n",
    "svc_predict_test_result = svc_model.predict(normalized_test_x_df)\n",
    "svc_testing_acc = svc_model.score(normalized_test_x_df, test_y_df)\n",
    "print('testing accuracy: {}'.format(svc_testing_acc))\n",
    "\n",
    "print('\\npredicted testing labels:')\n",
    "print(svc_predict_test_result)"
   ]
  },
  {
   "cell_type": "markdown",
   "metadata": {},
   "source": [
    "### 分類結果評估"
   ]
  },
  {
   "cell_type": "code",
   "execution_count": 13,
   "metadata": {},
   "outputs": [
    {
     "name": "stdout",
     "output_type": "stream",
     "text": [
      "precision, recall, fbeta-score:\n",
      "(0.7929865762038418, 0.7928286852589641, 0.792451649341332, None)\n",
      "\n",
      "confusion matrix(tn, fp, fn, tp):\n",
      "(90, 29, 23, 109)\n"
     ]
    }
   ],
   "source": [
    "# Print precision, recall, fbeta-score and confusion matrix\n",
    "\n",
    "print('precision, recall, fbeta-score:')\n",
    "print(precision_recall_fscore_support(test_y_df, svc_predict_test_result, average='weighted'))\n",
    "print('\\nconfusion matrix(tn, fp, fn, tp):')\n",
    "tn, fp, fn, tp = confusion_matrix(test_y_df, svc_predict_test_result).ravel()\n",
    "print((tn, fp, fn, tp))"
   ]
  },
  {
   "cell_type": "markdown",
   "metadata": {},
   "source": [
    "## Neural Network\n",
    "\n",
    "製作類神經網路模型前，需要先將Label轉換為One-hot encoding的形式。"
   ]
  },
  {
   "cell_type": "code",
   "execution_count": 14,
   "metadata": {},
   "outputs": [
    {
     "name": "stdout",
     "output_type": "stream",
     "text": [
      "-------- Training Labels --------\n",
      "(2263, 2)\n",
      "   0  1\n",
      "0  1  0\n",
      "1  0  1\n",
      "2  1  0\n",
      "3  0  1\n",
      "4  1  0\n"
     ]
    }
   ],
   "source": [
    "# Define NN output groundtruth\n",
    "\n",
    "falling_prob = pd.DataFrame(data=np.where(train_y_df == 0, 1, 0)[:])\n",
    "train_y_df = pd.DataFrame(data=np.where(train_y_df == 0, 0, 1)[:])\n",
    "train_y_df = pd.concat( [ falling_prob, train_y_df ], axis=1, ignore_index=True )\n",
    "\n",
    "falling_prob = pd.DataFrame(data=np.where(test_y_df == 0, 1, 0)[:])\n",
    "test_y_df = pd.DataFrame(data=np.where(test_y_df == 0, 0, 1)[:])\n",
    "test_y_df = pd.concat( [ falling_prob, test_y_df ], axis=1, ignore_index=True )\n",
    "\n",
    "print('-------- Training Labels --------')\n",
    "print(train_y_df.shape)\n",
    "print(train_y_df.head())"
   ]
  },
  {
   "cell_type": "markdown",
   "metadata": {},
   "source": [
    "NN結構如下：\n",
    "\n",
    "類型|大小|激發函數\n",
    "---|---|---\n",
    "Linear|(5, 100)|ReLU\n",
    "Linear|(100, 2)|Softmax\n",
    "\n",
    "超參數資訊如下：\n",
    "- Batch size： 100\n",
    "- Optimizer： AdaGrad\n",
    "- Loss function： BCEWithLogitsLoss (Cross Entropy的變形)\n",
    "\n",
    "經實驗，batch size若太大精度會不高，太小則會拉長訓練時間但精度不會提升太多；Optimizer選用AdaGrad則是藉可變動的learning rate來提升初期訓練速度，但在後期又可以收斂；Loss function因為是二元分類問題，因此選用固定班底的Cross Entropy。"
   ]
  },
  {
   "cell_type": "code",
   "execution_count": 15,
   "metadata": {},
   "outputs": [
    {
     "name": "stdout",
     "output_type": "stream",
     "text": [
      "epoch: 0 - loss: 0.6523808837\n",
      "epoch: 100 - loss: 0.6351314783\n",
      "epoch: 200 - loss: 0.5944130421\n",
      "epoch: 300 - loss: 0.6171208024\n",
      "epoch: 400 - loss: 0.5964610577\n",
      "epoch: 500 - loss: 0.6548215151\n",
      "epoch: 600 - loss: 0.5771522522\n",
      "epoch: 700 - loss: 0.6443138719\n",
      "epoch: 800 - loss: 0.5642848015\n",
      "epoch: 900 - loss: 0.5821752548\n",
      "epoch: 1000 - loss: 0.6036472917\n"
     ]
    }
   ],
   "source": [
    "# Define NN structure\n",
    "\n",
    "import torch\n",
    "import torch.nn.functional as F\n",
    "from torch.utils.data import TensorDataset\n",
    "from torch.utils.data import DataLoader\n",
    "\n",
    "class M_NN(torch.nn.Module):\n",
    "    def __init__(self, D_in, H, D_out):\n",
    "        super(M_NN, self).__init__()\n",
    "        self.linear1 = torch.nn.Linear(D_in, H)\n",
    "        self.linear2 = torch.nn.Linear(H, D_out)\n",
    "        self.softmax = torch.nn.Softmax(1)\n",
    "\n",
    "    def forward(self, x):\n",
    "        h = self.linear1(x)\n",
    "        acti_out = F.relu(h)\n",
    "        acti_out = self.linear2(h)\n",
    "        y_pred = self.softmax(acti_out)\n",
    "        return y_pred\n",
    "\n",
    "\n",
    "# N = batch size, D_in = input size, H = hidden size, D_out = output size\n",
    "N, D_in, H, D_out = 100, 5, 100, 2  # !--- You can modify here ---!\n",
    "\n",
    "# create tensor\n",
    "train = torch.tensor(normalized_train_x_df.values.astype(np.float32))\n",
    "train_target = torch.tensor(train_y_df.values.astype(np.float32)) \n",
    "train_tensor = TensorDataset(train, train_target) \n",
    "train_loader = DataLoader(train_tensor, batch_size = N, shuffle = True)\n",
    "\n",
    "model = M_NN(D_in, H, D_out)\n",
    "criterion = torch.nn.BCEWithLogitsLoss() # !--- You can modify here ---!\n",
    "optimizer = torch.optim.Adagrad(model.parameters(), initial_accumulator_value=0.1)\n",
    " # !--- You can modify here ---!\n",
    "\n",
    "\n",
    "# Train NN\n",
    "# !--- You can modify here ---!\n",
    "\n",
    "for t in range(1001):\n",
    "    for batch_x, batch_y in train_loader: \n",
    "        y_pred = model(batch_x)\n",
    "        loss = criterion(y_pred, batch_y)\n",
    "        \n",
    "        optimizer.zero_grad()\n",
    "        loss.backward()\n",
    "        optimizer.step()\n",
    "        \n",
    "    if (t%100 == 0):\n",
    "        print('epoch: %d - loss: %.10f' % (t, loss.item()))"
   ]
  },
  {
   "cell_type": "markdown",
   "metadata": {},
   "source": [
    "訓練與測試結果精度達0.79左右，算是不錯。"
   ]
  },
  {
   "cell_type": "code",
   "execution_count": 16,
   "metadata": {},
   "outputs": [
    {
     "name": "stdout",
     "output_type": "stream",
     "text": [
      "training accuracy:\n",
      "0.7984975695978789\n",
      "\n",
      "testing accuracy:\n",
      "0.7888446215139442\n",
      "\n",
      "predicted testing prob:\n",
      "tensor([[1.5123e-11, 1.0000e+00],\n",
      "        [3.3924e-01, 6.6076e-01],\n",
      "        [8.8459e-03, 9.9115e-01],\n",
      "        [9.8179e-01, 1.8207e-02],\n",
      "        [2.2387e-01, 7.7613e-01]], grad_fn=<SliceBackward>)\n",
      "\n",
      "predicted testing labels:\n",
      "[0 0 0 1 0 1 0 0 1 0 1 0 0 1 1 0 0 1 1 0 1 1 1 0 0 1 0 0 1 0 0 1 1 0 0 0 0\n",
      " 1 1 1 0 0 1 1 0 0 1 1 1 0 0 1 0 0 1 0 0 1 1 0 1 0 0 0 1 0 0 1 0 1 0 0 1 1\n",
      " 1 0 1 0 0 1 1 0 1 0 0 1 1 0 0 1 0 1 0 1 1 0 1 0 0 1 1 0 1 0 1 1 0 1 0 0 0\n",
      " 1 0 1 0 1 0 1 0 1 0 1 0 0 1 0 0 0 0 1 1 0 1 1 0 0 1 0 0 0 0 1 1 1 0 0 0 0\n",
      " 1 0 1 0 1 0 0 1 0 1 0 0 1 0 0 0 1 0 1 0 0 0 0 0 0 0 0 0 1 1 0 0 0 1 1 0 1\n",
      " 0 1 0 1 0 1 0 0 0 1 0 0 1 0 1 1 0 0 1 1 0 1 0 0 0 1 1 0 0 0 1 1 1 0 0 0 0\n",
      " 1 1 0 1 0 1 0 1 0 0 1 0 1 1 0 0 0 1 1 0 0 1 1 0 1 0 1 1 1]\n"
     ]
    }
   ],
   "source": [
    "# Predict\n",
    "\n",
    "nn_predict_train_y = model(train)\n",
    "result_train = np.where(nn_predict_train_y[:, 0] > nn_predict_train_y[:, 1], 1, 0) # !-- You can modify here --!\n",
    "print('training accuracy:')\n",
    "print(accuracy_score(train_y_df[0], result_train))\n",
    "\n",
    "nn_predict_test_y = model(torch.tensor(normalized_test_x_df.values.astype(np.float32)))\n",
    "result_test = np.where(nn_predict_test_y[:, 0] > nn_predict_test_y[:, 1], 1, 0) # !-- You can modify here --!\n",
    "print('\\ntesting accuracy:')\n",
    "print(accuracy_score(test_y_df[0], result_test))\n",
    "\n",
    "print('\\npredicted testing prob:')\n",
    "print(nn_predict_test_y[:5,:])\n",
    "print('\\npredicted testing labels:')\n",
    "print(result_test)"
   ]
  },
  {
   "cell_type": "markdown",
   "metadata": {},
   "source": [
    "### 分類結果評估"
   ]
  },
  {
   "cell_type": "code",
   "execution_count": 17,
   "metadata": {},
   "outputs": [
    {
     "name": "stdout",
     "output_type": "stream",
     "text": [
      "\n",
      "precision, recall, fbeta-score:\n",
      "(0.7895566669492244, 0.7888446215139442, 0.788175863177168, None)\n",
      "\n",
      "confusion matrix(tn, fp, fn, tp):\n",
      "(110, 22, 31, 88)\n"
     ]
    }
   ],
   "source": [
    "# Print precision, recall, fbeta-score and confusion matrix\n",
    "\n",
    "print('\\nprecision, recall, fbeta-score:')\n",
    "print(precision_recall_fscore_support(test_y_df[0], result_test, average='weighted'))\n",
    "print('\\nconfusion matrix(tn, fp, fn, tp):')\n",
    "tn, fp, fn, tp = confusion_matrix(test_y_df[0], result_test).ravel()\n",
    "print((tn, fp, fn, tp))"
   ]
  },
  {
   "cell_type": "markdown",
   "metadata": {},
   "source": [
    "# Discussion"
   ]
  },
  {
   "cell_type": "markdown",
   "metadata": {},
   "source": [
    "總結上述3種分類方法評估結果如下：\n",
    "\n",
    "|分類方法|Precision|Recall|F-beta Score|\n",
    "|:---:|---:|---:|---:|\n",
    "|Logistic|0.7928|0.7928|0.7926|\n",
    "|SVM|0.7930|0.7928|0.7925|\n",
    "|NN|0.7896|0.7888|0.7882|\n",
    "\n",
    "可以看出Logistic與SVM的表現幾乎相同，NN稍微差一點點，推測可能是層數太少，若再加深或許能增加精度。\n",
    "\n",
    "#### 此次模型是否適用於其他資料集\n",
    "\n",
    "由於這次訓練資料的trend元素走勢是持續上升，若是遇到有升有降的trend時不確定能不能用同樣方法處理，另外時間序列在此是選擇乘法形式，若是遇到加法形式的資料時便需要重新處理，模型本身方面，若是時間序列問題解決，Logistic與SVM理應可以通用，NN則容易因訓練資料不足而無法適用於其他資料。\n",
    "\n",
    "#### 如何改善分類模型\n",
    "\n",
    "Logistic沒有更動太多參數便達到此精度；SVM經實驗後發現不同的kernal function對結果沒有影響太大，因此回歸最簡單的linear；NN對結果影響最大的部份在於loss function，分類問題若使用MSE作為loss function會不容易收斂（loss 容易卡在0.6 ~ 0.7），使用Cross entropy才是較恰當的。"
   ]
  }
 ],
 "metadata": {
  "kernelspec": {
   "display_name": "Python 3",
   "language": "python",
   "name": "python3"
  },
  "language_info": {
   "codemirror_mode": {
    "name": "ipython",
    "version": 3
   },
   "file_extension": ".py",
   "mimetype": "text/x-python",
   "name": "python",
   "nbconvert_exporter": "python",
   "pygments_lexer": "ipython3",
   "version": "3.6.9"
  }
 },
 "nbformat": 4,
 "nbformat_minor": 2
}
